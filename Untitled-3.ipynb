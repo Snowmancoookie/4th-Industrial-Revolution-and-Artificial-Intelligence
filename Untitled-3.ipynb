{
 "cells": [
  {
   "cell_type": "code",
   "execution_count": 7,
   "metadata": {},
   "outputs": [],
   "source": [
    "import pandas as pd\n",
    "import numpy as np\n",
    "from sklearn.model_selection import train_test_split\n",
    "from sklearn.preprocessing import StandardScaler\n",
    "from sklearn.ensemble import RandomForestRegressor\n",
    "from sklearn.linear_model import LinearRegression\n",
    "from sklearn.metrics import mean_squared_error, mean_absolute_percentage_error, r2_score\n",
    "from scipy.optimize import curve_fit\n",
    "\n",
    "# 데이터셋 로드\n",
    "file_202110 = 'TB_LAYER_CK_INFO-202110 (1).csv'\n",
    "file_202206 = 'TB_LAYER_CK_INFO-202206 (1).csv'\n",
    "\n",
    "data_202110 = pd.read_csv(file_202110)\n",
    "data_202206 = pd.read_csv(file_202206)\n",
    "\n",
    "# 데이터셋 병합\n",
    "combined_data = pd.concat([data_202110, data_202206], ignore_index=True)\n",
    "\n",
    "# 결측값 확인\n",
    "missing_values = combined_data.isnull().sum()\n",
    "\n",
    "\n",
    "\n"
   ]
  },
  {
   "cell_type": "code",
   "execution_count": 8,
   "metadata": {},
   "outputs": [],
   "source": [
    "# 선택된 특성\n",
    "selected_features = ['CNT_PER_FEED_QY', 'CNT_PER_BEV_QY', 'TOP_TP', 'LWET_TP', 'TOP_HMDT', 'LWET_HMDT', 'WEEKS']\n",
    "\n",
    "# SPAWN_RT가 0인 행 제거\n",
    "filtered_data = combined_data[combined_data['SPAWN_RT'] > 0]\n",
    "\n",
    "# 특성과 목표 변수 선택\n",
    "X_filtered = filtered_data[selected_features]\n",
    "y_filtered = filtered_data['SPAWN_RT']\n",
    "\n",
    "# 데이터를 학습 및 테스트 세트로 분할 (70% 학습, 30% 테스트)\n",
    "X_train_filt, X_test_filt, y_train_filt, y_test_filt = train_test_split(X_filtered, y_filtered, test_size=0.3, random_state=42)\n",
    "\n",
    "# 데이터 표준화\n",
    "scaler_filt = StandardScaler()\n",
    "X_train_filt_scaled = scaler_filt.fit_transform(X_train_filt)\n",
    "X_test_filt_scaled = scaler_filt.transform(X_test_filt)\n",
    "\n",
    "# 필터링된 데이터로 Random Forest 모델 학습\n",
    "rf_model_filt = RandomForestRegressor(n_estimators=100, random_state=42)\n",
    "rf_model_filt.fit(X_train_filt_scaled, y_train_filt)\n",
    "\n",
    "# 예측 수행\n",
    "rf_predictions_filt = rf_model_filt.predict(X_test_filt_scaled)\n",
    "\n"
   ]
  },
  {
   "cell_type": "code",
   "execution_count": 9,
   "metadata": {},
   "outputs": [
    {
     "name": "stderr",
     "output_type": "stream",
     "text": [
      "C:\\Users\\kim hyun se\\AppData\\Local\\Temp\\ipykernel_22876\\1879533216.py:22: RuntimeWarning: overflow encountered in exp\n",
      "  return a * np.exp(-b * np.exp(-c * x))\n",
      "c:\\Users\\kim hyun se\\AppData\\Local\\Programs\\Python\\Python311\\Lib\\site-packages\\scipy\\optimize\\_minpack_py.py:1010: OptimizeWarning: Covariance of the parameters could not be estimated\n",
      "  warnings.warn('Covariance of the parameters could not be estimated',\n"
     ]
    }
   ],
   "source": [
    "# Random Forest 모델 평가\n",
    "rf_mse_filt = mean_squared_error(y_test_filt, rf_predictions_filt)\n",
    "rf_mape_filt = mean_absolute_percentage_error(y_test_filt, rf_predictions_filt) * 100\n",
    "rf_rmspe_filt = np.sqrt(np.mean(((y_test_filt - rf_predictions_filt) / y_test_filt) ** 2)) * 100\n",
    "rf_r2_filt = r2_score(y_test_filt, rf_predictions_filt)\n",
    "\n",
    "# Linear Regression 모델 학습\n",
    "lr_model = LinearRegression()\n",
    "lr_model.fit(X_train_filt_scaled, y_train_filt)\n",
    "\n",
    "# 예측 수행\n",
    "lr_predictions = lr_model.predict(X_test_filt_scaled)\n",
    "\n",
    "# Linear Regression 모델 평가\n",
    "lr_mse = mean_squared_error(y_test_filt, lr_predictions)\n",
    "lr_mape = mean_absolute_percentage_error(y_test_filt, lr_predictions) * 100\n",
    "lr_rmspe = np.sqrt(np.mean(((y_test_filt - lr_predictions) / y_test_filt) ** 2)) * 100\n",
    "lr_r2 = r2_score(y_test_filt, lr_predictions)\n",
    "\n",
    "# Gompertz 함수 정의\n",
    "def gompertz_model(x, a, b, c):\n",
    "    return a * np.exp(-b * np.exp(-c * x))\n",
    "\n",
    "# 단순화를 위해 하나의 설명 변수만 사용: 'WEEKS'  \n",
    "X_gompertz = X_filtered['WEEKS'].values\n",
    "y_gompertz = y_filtered.values\n",
    "\n",
    "# 데이터를 학습 및 테스트 세트로 분할 (70% 학습, 30% 테스트)\n",
    "X_train_gomp, X_test_gomp, y_train_gomp, y_test_gomp = train_test_split(X_gompertz, y_gompertz, test_size=0.3, random_state=42)\n",
    "\n",
    "# Gompertz 모델 피팅\n",
    "popt, _ = curve_fit(gompertz_model, X_train_gomp, y_train_gomp, maxfev=10000)\n",
    "\n",
    "# 예측 수행\n",
    "gompertz_predictions = gompertz_model(X_test_gomp, *popt)\n",
    "\n",
    "# Gompertz 모델 평가\n",
    "gompertz_mse = mean_squared_error(y_test_gomp, gompertz_predictions)  \n",
    "gompertz_mape = mean_absolute_percentage_error(y_test_gomp, gompertz_predictions) * 100\n",
    "gompertz_rmspe = np.sqrt(np.mean(((y_test_gomp - gompertz_predictions) / y_test_gomp) ** 2)) * 100\n",
    "gompertz_r2 = r2_score(y_test_gomp, gompertz_predictions)\n"
   ]
  },
  {
   "cell_type": "code",
   "execution_count": 10,
   "metadata": {},
   "outputs": [
    {
     "data": {
      "text/plain": [
       "({'Random Forest': {'MSE': 41.72599101029683,\n",
       "   'MAPE': 25.39645880954955,\n",
       "   'RMSPE': 429.7519827408973,\n",
       "   'R^2': 0.836429006741338},\n",
       "  'Linear Regression': {'MSE': 192.63691121290103,\n",
       "   'MAPE': 145.99582379179324,\n",
       "   'RMSPE': 2242.580732220494,\n",
       "   'R^2': 0.2448397235766281},\n",
       "  'Gompertz Nonlinear Model': {'MSE': 256.14718577897537,\n",
       "   'MAPE': 271.89609581073836,\n",
       "   'RMSPE': 4531.76345483795}},\n",
       " '/mnt/data/combined_poultry_data.csv')"
      ]
     },
     "execution_count": 10,
     "metadata": {},
     "output_type": "execute_result"
    }
   ],
   "source": [
    "\n",
    "# 모든 평가 지표 출력\n",
    "results = {\n",
    "    \"Random Forest\": {\n",
    "        \"MSE\": rf_mse_filt,\n",
    "        \"MAPE\": rf_mape_filt,\n",
    "        \"RMSPE\": rf_rmspe_filt, \n",
    "        \"R^2\": rf_r2_filt\n",
    "    },\n",
    "    \"Linear Regression\": {\n",
    "        \"MSE\": lr_mse,\n",
    "        \"MAPE\": lr_mape,\n",
    "        \"RMSPE\": lr_rmspe,\n",
    "        \"R^2\": lr_r2  \n",
    "    },\n",
    "    \"Gompertz Nonlinear Model\": {\n",
    "        \"MSE\": gompertz_mse,\n",
    "        \"MAPE\": gompertz_mape,\n",
    "        \"RMSPE\": gompertz_rmspe,\n",
    "     \n",
    "    }\n",
    "}\n",
    "\n",
    "results, combined_file_path"
   ]
  },
  {
   "cell_type": "code",
   "execution_count": null,
   "metadata": {},
   "outputs": [],
   "source": []
  }
 ],
 "metadata": {
  "kernelspec": {
   "display_name": "Python 3",
   "language": "python",
   "name": "python3"
  },
  "language_info": {
   "codemirror_mode": {
    "name": "ipython",
    "version": 3
   },
   "file_extension": ".py",
   "mimetype": "text/x-python",
   "name": "python",
   "nbconvert_exporter": "python",
   "pygments_lexer": "ipython3",
   "version": "3.11.2"
  }
 },
 "nbformat": 4,
 "nbformat_minor": 2
}
